{
  "nbformat": 4,
  "nbformat_minor": 0,
  "metadata": {
    "colab": {
      "provenance": [],
      "authorship_tag": "ABX9TyPqZ7TEMPWfJ4v4KGievyev"
    },
    "kernelspec": {
      "name": "python3",
      "display_name": "Python 3"
    },
    "language_info": {
      "name": "python"
    }
  },
  "cells": [
    {
      "cell_type": "code",
      "execution_count": 1,
      "metadata": {
        "colab": {
          "base_uri": "https://localhost:8080/"
        },
        "id": "huOVxypSIAki",
        "outputId": "bbb0126d-4f41-4a31-b776-b595c381fedd"
      },
      "outputs": [
        {
          "output_type": "stream",
          "name": "stdout",
          "text": [
            "['#NLP', '#Machine_Learning', '#AI']\n"
          ]
        }
      ],
      "source": [
        "# find words starting with hash\n",
        "import re\n",
        "txt=\"#NLP is fun! Let's explore #Machine_Learning and #AI\"\n",
        "x=re.findall(\"#\\w+\",txt)\n",
        "print(x)"
      ]
    }
  ]
}