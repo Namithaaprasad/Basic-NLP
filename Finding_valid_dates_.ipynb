{
  "nbformat": 4,
  "nbformat_minor": 0,
  "metadata": {
    "colab": {
      "provenance": [],
      "authorship_tag": "ABX9TyPs6/PWOnNZRaFb9IygbTwK"
    },
    "kernelspec": {
      "name": "python3",
      "display_name": "Python 3"
    },
    "language_info": {
      "name": "python"
    }
  },
  "cells": [
    {
      "cell_type": "code",
      "source": [
        "# Find valid dates\n",
        "from datetime import datetime\n",
        "\n",
        "def is_valid_date(date_string):\n",
        "    try:\n",
        "        # Try to parse the date string with the format 'YYYY-MM-DD'\n",
        "        date_object = datetime.strptime(date_string, \"%Y-%m-%d\")\n",
        "\n",
        "        # Check if the day of the month is valid for the given month/year\n",
        "        # We rely on the datetime module to handle month-day validation\n",
        "        # If the date is invalid, it will raise an exception\n",
        "        date_object.strftime(\"%Y-%m-%d\")  # Ensure it's correctly formatted\n",
        "\n",
        "        # If no exception was raised, the date is valid\n",
        "        return True\n",
        "    except ValueError:\n",
        "        # If a ValueError is raised, the date is invalid\n",
        "        return False\n",
        "\n",
        "# Test cases\n",
        "test_dates = [\n",
        "    \"2025-01-31\",  # Valid\n",
        "    \"2025-02-29\",  # Invalid (2025 is not a leap year)\n",
        "    \"2024-02-29\",  # Valid (2024 is a leap year)\n",
        "    \"2025-04-31\",  # Invalid (April has 30 days)\n",
        "    \"2025-06-15\",  # Valid\n",
        "    \"2025-12-25\",  # Valid\n",
        "    \"2025-11-31\",  # Invalid (November has 30 days)\n",
        "]\n",
        "\n",
        "for date in test_dates:\n",
        "    print(f\"Date: {date}, Valid: {is_valid_date(date)}\")\n"
      ],
      "metadata": {
        "colab": {
          "base_uri": "https://localhost:8080/"
        },
        "id": "KzQkc2kyVwH8",
        "outputId": "ae506e5f-12bf-45c6-9758-0a9cce077128"
      },
      "execution_count": 4,
      "outputs": [
        {
          "output_type": "stream",
          "name": "stdout",
          "text": [
            "Date: 2025-01-31, Valid: True\n",
            "Date: 2025-02-29, Valid: False\n",
            "Date: 2024-02-29, Valid: True\n",
            "Date: 2025-04-31, Valid: False\n",
            "Date: 2025-06-15, Valid: True\n",
            "Date: 2025-12-25, Valid: True\n",
            "Date: 2025-11-31, Valid: False\n"
          ]
        }
      ]
    }
  ]
}