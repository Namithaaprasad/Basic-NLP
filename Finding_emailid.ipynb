{
  "nbformat": 4,
  "nbformat_minor": 0,
  "metadata": {
    "colab": {
      "provenance": [],
      "authorship_tag": "ABX9TyOxUNnDUhAS0qAyeQazxUF9"
    },
    "kernelspec": {
      "name": "python3",
      "display_name": "Python 3"
    },
    "language_info": {
      "name": "python"
    }
  },
  "cells": [
    {
      "cell_type": "code",
      "execution_count": 2,
      "metadata": {
        "colab": {
          "base_uri": "https://localhost:8080/"
        },
        "id": "huOVxypSIAki",
        "outputId": "1ba2b1d1-93fb-4c94-d6c5-1e3acbbc3260"
      },
      "outputs": [
        {
          "output_type": "stream",
          "name": "stdout",
          "text": [
            "[' suppo1rt123@example.com', ' sales@company.org']\n"
          ]
        }
      ],
      "source": [
        "# Finding emailid in the text\n",
        "txt=\"Contact us at suppo1rt123@example.com or sales@company.org for more details\"\n",
        "x=re.findall(\"\\s[a-zA-Z][a-zA-Z0-9]+@[a-zA-Z]+\\.[a-z]+\",txt)\n",
        "print(x)"
      ]
    }
  ]
}