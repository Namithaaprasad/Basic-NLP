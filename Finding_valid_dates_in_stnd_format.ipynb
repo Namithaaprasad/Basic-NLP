{
  "nbformat": 4,
  "nbformat_minor": 0,
  "metadata": {
    "colab": {
      "provenance": [],
      "authorship_tag": "ABX9TyPAYUq2fR0La0RVHHbCIw/f"
    },
    "kernelspec": {
      "name": "python3",
      "display_name": "Python 3"
    },
    "language_info": {
      "name": "python"
    }
  },
  "cells": [
    {
      "cell_type": "code",
      "source": [
        "#find  valid dates in format dd/mm/yyyy or dd-mm-yyyy\n",
        "txt=\"important dates are 88/01/2023,12/44/2023,12/01/2023,15-02-2023,and 05/03/23\"#find  valid dates in format dd/mm/yyyy or dd-mm-yyyy\n",
        "x=re.findall(\"[0-3][0-9][/-][0-12]{2}[/-]\\d{4}\",txt)\n",
        "print(x)"
      ],
      "metadata": {
        "colab": {
          "base_uri": "https://localhost:8080/"
        },
        "id": "qzmWMNT1VbF-",
        "outputId": "2a3aec9d-ffed-4fdc-e458-732b7ffee031"
      },
      "execution_count": 3,
      "outputs": [
        {
          "output_type": "stream",
          "name": "stdout",
          "text": [
            "['12/01/2023', '15-02-2023']\n"
          ]
        }
      ]
    }
  ]
}